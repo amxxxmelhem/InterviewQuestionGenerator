{
  "nbformat": 4,
  "nbformat_minor": 0,
  "metadata": {
    "colab": {
      "provenance": []
    },
    "kernelspec": {
      "name": "python3",
      "display_name": "Python 3"
    },
    "language_info": {
      "name": "python"
    },
    "widgets": {
      "application/vnd.jupyter.widget-state+json": {
        "63b87af4c7af4387a859442f063e87fc": {
          "model_module": "@jupyter-widgets/controls",
          "model_name": "TextModel",
          "model_module_version": "1.5.0",
          "state": {
            "_dom_classes": [],
            "_model_module": "@jupyter-widgets/controls",
            "_model_module_version": "1.5.0",
            "_model_name": "TextModel",
            "_view_count": null,
            "_view_module": "@jupyter-widgets/controls",
            "_view_module_version": "1.5.0",
            "_view_name": "TextView",
            "continuous_update": true,
            "description": "Role/Resume:",
            "description_tooltip": null,
            "disabled": false,
            "layout": "IPY_MODEL_ff1c7884dd064a259f55499777b6a847",
            "placeholder": "Enter job role or paste resume",
            "style": "IPY_MODEL_b629e3f1eebb4953aa43da7b164c2e1b",
            "value": "Civil Engineer"
          }
        },
        "ff1c7884dd064a259f55499777b6a847": {
          "model_module": "@jupyter-widgets/base",
          "model_name": "LayoutModel",
          "model_module_version": "1.2.0",
          "state": {
            "_model_module": "@jupyter-widgets/base",
            "_model_module_version": "1.2.0",
            "_model_name": "LayoutModel",
            "_view_count": null,
            "_view_module": "@jupyter-widgets/base",
            "_view_module_version": "1.2.0",
            "_view_name": "LayoutView",
            "align_content": null,
            "align_items": null,
            "align_self": null,
            "border": null,
            "bottom": null,
            "display": null,
            "flex": null,
            "flex_flow": null,
            "grid_area": null,
            "grid_auto_columns": null,
            "grid_auto_flow": null,
            "grid_auto_rows": null,
            "grid_column": null,
            "grid_gap": null,
            "grid_row": null,
            "grid_template_areas": null,
            "grid_template_columns": null,
            "grid_template_rows": null,
            "height": null,
            "justify_content": null,
            "justify_items": null,
            "left": null,
            "margin": null,
            "max_height": null,
            "max_width": null,
            "min_height": null,
            "min_width": null,
            "object_fit": null,
            "object_position": null,
            "order": null,
            "overflow": null,
            "overflow_x": null,
            "overflow_y": null,
            "padding": null,
            "right": null,
            "top": null,
            "visibility": null,
            "width": "50%"
          }
        },
        "b629e3f1eebb4953aa43da7b164c2e1b": {
          "model_module": "@jupyter-widgets/controls",
          "model_name": "DescriptionStyleModel",
          "model_module_version": "1.5.0",
          "state": {
            "_model_module": "@jupyter-widgets/controls",
            "_model_module_version": "1.5.0",
            "_model_name": "DescriptionStyleModel",
            "_view_count": null,
            "_view_module": "@jupyter-widgets/base",
            "_view_module_version": "1.2.0",
            "_view_name": "StyleView",
            "description_width": ""
          }
        },
        "2fc4204cdab44930bfbf10d7ca07ef29": {
          "model_module": "@jupyter-widgets/controls",
          "model_name": "BoundedIntTextModel",
          "model_module_version": "1.5.0",
          "state": {
            "_dom_classes": [],
            "_model_module": "@jupyter-widgets/controls",
            "_model_module_version": "1.5.0",
            "_model_name": "BoundedIntTextModel",
            "_view_count": null,
            "_view_module": "@jupyter-widgets/controls",
            "_view_module_version": "1.5.0",
            "_view_name": "IntTextView",
            "continuous_update": false,
            "description": "Questions:",
            "description_tooltip": null,
            "disabled": false,
            "layout": "IPY_MODEL_7bfdc672a79d4b14825ea3ec9b9f8068",
            "max": 10,
            "min": 1,
            "step": 1,
            "style": "IPY_MODEL_689be3f3a82841598f3d8484b05397fc",
            "value": 2
          }
        },
        "7bfdc672a79d4b14825ea3ec9b9f8068": {
          "model_module": "@jupyter-widgets/base",
          "model_name": "LayoutModel",
          "model_module_version": "1.2.0",
          "state": {
            "_model_module": "@jupyter-widgets/base",
            "_model_module_version": "1.2.0",
            "_model_name": "LayoutModel",
            "_view_count": null,
            "_view_module": "@jupyter-widgets/base",
            "_view_module_version": "1.2.0",
            "_view_name": "LayoutView",
            "align_content": null,
            "align_items": null,
            "align_self": null,
            "border": null,
            "bottom": null,
            "display": null,
            "flex": null,
            "flex_flow": null,
            "grid_area": null,
            "grid_auto_columns": null,
            "grid_auto_flow": null,
            "grid_auto_rows": null,
            "grid_column": null,
            "grid_gap": null,
            "grid_row": null,
            "grid_template_areas": null,
            "grid_template_columns": null,
            "grid_template_rows": null,
            "height": null,
            "justify_content": null,
            "justify_items": null,
            "left": null,
            "margin": null,
            "max_height": null,
            "max_width": null,
            "min_height": null,
            "min_width": null,
            "object_fit": null,
            "object_position": null,
            "order": null,
            "overflow": null,
            "overflow_x": null,
            "overflow_y": null,
            "padding": null,
            "right": null,
            "top": null,
            "visibility": null,
            "width": null
          }
        },
        "689be3f3a82841598f3d8484b05397fc": {
          "model_module": "@jupyter-widgets/controls",
          "model_name": "DescriptionStyleModel",
          "model_module_version": "1.5.0",
          "state": {
            "_model_module": "@jupyter-widgets/controls",
            "_model_module_version": "1.5.0",
            "_model_name": "DescriptionStyleModel",
            "_view_count": null,
            "_view_module": "@jupyter-widgets/base",
            "_view_module_version": "1.2.0",
            "_view_name": "StyleView",
            "description_width": ""
          }
        },
        "74c6f9c8db454c04a5f0345ceabaa2aa": {
          "model_module": "@jupyter-widgets/controls",
          "model_name": "ButtonModel",
          "model_module_version": "1.5.0",
          "state": {
            "_dom_classes": [],
            "_model_module": "@jupyter-widgets/controls",
            "_model_module_version": "1.5.0",
            "_model_name": "ButtonModel",
            "_view_count": null,
            "_view_module": "@jupyter-widgets/controls",
            "_view_module_version": "1.5.0",
            "_view_name": "ButtonView",
            "button_style": "primary",
            "description": "Generate",
            "disabled": false,
            "icon": "",
            "layout": "IPY_MODEL_52451a867d7d46ffaf176c652e06a2bf",
            "style": "IPY_MODEL_688e05b2d23949f9b9a8f1577a2b0551",
            "tooltip": ""
          }
        },
        "52451a867d7d46ffaf176c652e06a2bf": {
          "model_module": "@jupyter-widgets/base",
          "model_name": "LayoutModel",
          "model_module_version": "1.2.0",
          "state": {
            "_model_module": "@jupyter-widgets/base",
            "_model_module_version": "1.2.0",
            "_model_name": "LayoutModel",
            "_view_count": null,
            "_view_module": "@jupyter-widgets/base",
            "_view_module_version": "1.2.0",
            "_view_name": "LayoutView",
            "align_content": null,
            "align_items": null,
            "align_self": null,
            "border": null,
            "bottom": null,
            "display": null,
            "flex": null,
            "flex_flow": null,
            "grid_area": null,
            "grid_auto_columns": null,
            "grid_auto_flow": null,
            "grid_auto_rows": null,
            "grid_column": null,
            "grid_gap": null,
            "grid_row": null,
            "grid_template_areas": null,
            "grid_template_columns": null,
            "grid_template_rows": null,
            "height": null,
            "justify_content": null,
            "justify_items": null,
            "left": null,
            "margin": null,
            "max_height": null,
            "max_width": null,
            "min_height": null,
            "min_width": null,
            "object_fit": null,
            "object_position": null,
            "order": null,
            "overflow": null,
            "overflow_x": null,
            "overflow_y": null,
            "padding": null,
            "right": null,
            "top": null,
            "visibility": null,
            "width": null
          }
        },
        "688e05b2d23949f9b9a8f1577a2b0551": {
          "model_module": "@jupyter-widgets/controls",
          "model_name": "ButtonStyleModel",
          "model_module_version": "1.5.0",
          "state": {
            "_model_module": "@jupyter-widgets/controls",
            "_model_module_version": "1.5.0",
            "_model_name": "ButtonStyleModel",
            "_view_count": null,
            "_view_module": "@jupyter-widgets/base",
            "_view_module_version": "1.2.0",
            "_view_name": "StyleView",
            "button_color": null,
            "font_weight": ""
          }
        },
        "502ec917c953424398477ebe5536214a": {
          "model_module": "@jupyter-widgets/output",
          "model_name": "OutputModel",
          "model_module_version": "1.0.0",
          "state": {
            "_dom_classes": [],
            "_model_module": "@jupyter-widgets/output",
            "_model_module_version": "1.0.0",
            "_model_name": "OutputModel",
            "_view_count": null,
            "_view_module": "@jupyter-widgets/output",
            "_view_module_version": "1.0.0",
            "_view_name": "OutputView",
            "layout": "IPY_MODEL_ed42d32de2c14f2db8e2f487e763c078",
            "msg_id": "",
            "outputs": [
              {
                "output_type": "display_data",
                "data": {
                  "text/plain": "<IPython.core.display.Markdown object>",
                  "text/markdown": "**Generating 2 interview questions for:** `Civil Engineer`"
                },
                "metadata": {}
              },
              {
                "output_type": "display_data",
                "data": {
                  "text/plain": "<IPython.core.display.Markdown object>",
                  "text/markdown": "**Q1. You are an expert interviewer. Generate 2 technical and relevant interview questions for the following job role or resume. Only return the questions, numbered.**"
                },
                "metadata": {}
              },
              {
                "output_type": "display_data",
                "data": {
                  "text/plain": "<IPython.core.display.Markdown object>",
                  "text/markdown": "_Generating sample answer..._"
                },
                "metadata": {}
              },
              {
                "output_type": "display_data",
                "data": {
                  "text/plain": "<IPython.core.display.Markdown object>",
                  "text/markdown": "**Sample Answer:** Can you provide me with some examples of projects that you have successfully completed as a civil engineer?\nAnswer: Sure! Here are a few examples of projects I have worked on:\n1. Designed and built a new sewage treatment plant that has improved"
                },
                "metadata": {}
              },
              {
                "output_type": "display_data",
                "data": {
                  "text/plain": "<IPython.core.display.Markdown object>",
                  "text/markdown": "---"
                },
                "metadata": {}
              },
              {
                "output_type": "display_data",
                "data": {
                  "text/plain": "<IPython.core.display.Markdown object>",
                  "text/markdown": "**Q2. Job Role/Resume: Civil Engineer**"
                },
                "metadata": {}
              },
              {
                "output_type": "display_data",
                "data": {
                  "text/plain": "<IPython.core.display.Markdown object>",
                  "text/markdown": "_Generating sample answer..._"
                },
                "metadata": {}
              },
              {
                "output_type": "display_data",
                "data": {
                  "text/plain": "<IPython.core.display.Markdown object>",
                  "text/markdown": "**Sample Answer:** I am a Civil Engineer with over 5 years of experience in designing, planning, and executing projects related to road, bridge, drainage, and water treatment. My experience includes project management, feasibility studies, design, and construction supervision. I have worked on various projects such as the expansion of an existing road, designing a new bridge for a highway,"
                },
                "metadata": {}
              },
              {
                "output_type": "display_data",
                "data": {
                  "text/plain": "<IPython.core.display.Markdown object>",
                  "text/markdown": "---"
                },
                "metadata": {}
              }
            ]
          }
        },
        "ed42d32de2c14f2db8e2f487e763c078": {
          "model_module": "@jupyter-widgets/base",
          "model_name": "LayoutModel",
          "model_module_version": "1.2.0",
          "state": {
            "_model_module": "@jupyter-widgets/base",
            "_model_module_version": "1.2.0",
            "_model_name": "LayoutModel",
            "_view_count": null,
            "_view_module": "@jupyter-widgets/base",
            "_view_module_version": "1.2.0",
            "_view_name": "LayoutView",
            "align_content": null,
            "align_items": null,
            "align_self": null,
            "border": null,
            "bottom": null,
            "display": null,
            "flex": null,
            "flex_flow": null,
            "grid_area": null,
            "grid_auto_columns": null,
            "grid_auto_flow": null,
            "grid_auto_rows": null,
            "grid_column": null,
            "grid_gap": null,
            "grid_row": null,
            "grid_template_areas": null,
            "grid_template_columns": null,
            "grid_template_rows": null,
            "height": null,
            "justify_content": null,
            "justify_items": null,
            "left": null,
            "margin": null,
            "max_height": null,
            "max_width": null,
            "min_height": null,
            "min_width": null,
            "object_fit": null,
            "object_position": null,
            "order": null,
            "overflow": null,
            "overflow_x": null,
            "overflow_y": null,
            "padding": null,
            "right": null,
            "top": null,
            "visibility": null,
            "width": null
          }
        }
      }
    }
  },
  "cells": [
    {
      "cell_type": "code",
      "source": [
        "!pip install transformers accelerate ipywidgets --quiet\n"
      ],
      "metadata": {
        "colab": {
          "base_uri": "https://localhost:8080/"
        },
        "id": "5EmFK-BnBkjZ",
        "outputId": "59a6e500-8ab2-4037-b819-686db5c5e123"
      },
      "execution_count": 12,
      "outputs": [
        {
          "output_type": "stream",
          "name": "stdout",
          "text": [
            "\u001b[?25l   \u001b[90m━━━━━━━━━━━━━━━━━━━━━━━━━━━━━━━━━━━━━━━━\u001b[0m \u001b[32m0.0/1.6 MB\u001b[0m \u001b[31m?\u001b[0m eta \u001b[36m-:--:--\u001b[0m\r\u001b[2K   \u001b[91m━━━━\u001b[0m\u001b[90m╺\u001b[0m\u001b[90m━━━━━━━━━━━━━━━━━━━━━━━━━━━━━━━━━━━\u001b[0m \u001b[32m0.2/1.6 MB\u001b[0m \u001b[31m5.0 MB/s\u001b[0m eta \u001b[36m0:00:01\u001b[0m\r\u001b[2K   \u001b[91m━━━━━━━━━━━━━━━━━━━━━━━━━━━━━━━━━━━━\u001b[0m\u001b[90m╺\u001b[0m\u001b[90m━━━\u001b[0m \u001b[32m1.4/1.6 MB\u001b[0m \u001b[31m20.8 MB/s\u001b[0m eta \u001b[36m0:00:01\u001b[0m\r\u001b[2K   \u001b[90m━━━━━━━━━━━━━━━━━━━━━━━━━━━━━━━━━━━━━━━━\u001b[0m \u001b[32m1.6/1.6 MB\u001b[0m \u001b[31m17.1 MB/s\u001b[0m eta \u001b[36m0:00:00\u001b[0m\n",
            "\u001b[?25h"
          ]
        }
      ]
    },
    {
      "cell_type": "code",
      "source": [
        "import ipywidgets as widgets\n",
        "from IPython.display import display, Markdown\n",
        "from transformers import pipeline, AutoTokenizer, AutoModelForCausalLM\n",
        "import torch\n"
      ],
      "metadata": {
        "id": "lT-Fo86gDFS4"
      },
      "execution_count": 13,
      "outputs": []
    },
    {
      "cell_type": "code",
      "source": [
        "# Load the open model (TinyLlama is open, small, and quick for demo)\n",
        "model_id = \"TinyLlama/TinyLlama-1.1B-Chat-v1.0\"\n",
        "\n",
        "tokenizer = AutoTokenizer.from_pretrained(model_id)\n",
        "model = AutoModelForCausalLM.from_pretrained(model_id, torch_dtype=\"auto\", device_map=\"cpu\")\n",
        "\n",
        "generator = pipeline(\"text-generation\", model=model, tokenizer=tokenizer)\n",
        "\n",
        "# Widgets for interactive input\n",
        "role_input = widgets.Text(\n",
        "    value='Data Scientist',\n",
        "    placeholder='Enter job role or paste resume',\n",
        "    description='Role/Resume:',\n",
        "    disabled=False,\n",
        "    layout=widgets.Layout(width='50%')\n",
        ")\n",
        "\n",
        "num_questions_input = widgets.BoundedIntText(\n",
        "    value=5,\n",
        "    min=1,\n",
        "    max=10,\n",
        "    step=1,\n",
        "    description='Questions:',\n",
        "    disabled=False\n",
        ")\n",
        "\n",
        "generate_button = widgets.Button(description='Generate', button_style='primary')\n",
        "output = widgets.Output()\n",
        "\n",
        "def build_questions_prompt(role_or_resume, num_questions):\n",
        "    return (\n",
        "        f\"You are an expert interviewer. Generate {num_questions} technical and relevant interview questions \"\n",
        "        f\"for the following job role or resume. Only return the questions, numbered.\\n\"\n",
        "        f\"Job Role/Resume: {role_or_resume}\\nQuestions:\"\n",
        "    )\n",
        "\n",
        "def build_answer_prompt(question, role_or_resume):\n",
        "    return (\n",
        "        f\"For the job role or resume below, provide a strong, concise sample answer to the interview question.\\n\"\n",
        "        f\"Job Role/Resume: {role_or_resume}\\n\"\n",
        "        f\"Question: {question}\\n\"\n",
        "        \"Sample Answer:\"\n",
        "    )\n",
        "\n",
        "def get_questions(role_or_resume, num_questions):\n",
        "    prompt = build_questions_prompt(role_or_resume, num_questions)\n",
        "    response = generator(\n",
        "        prompt,\n",
        "        max_length=256,\n",
        "        do_sample=True,\n",
        "        temperature=0.7,\n",
        "        pad_token_id=tokenizer.eos_token_id,\n",
        "        truncation=True  # <- Fix: remove warning\n",
        "    )\n",
        "    import re\n",
        "    lines = response[0]['generated_text'].split('\\n')\n",
        "    questions = []\n",
        "    for line in lines:\n",
        "        match = re.match(r'^\\s*\\d+[).\\-]?\\s*(.*)', line)\n",
        "        if match:\n",
        "            questions.append(match.group(1).strip())\n",
        "        elif line.strip() and len(questions) < num_questions:\n",
        "            questions.append(line.strip())\n",
        "        if len(questions) >= num_questions:\n",
        "            break\n",
        "    # fallback if no numbered list is detected\n",
        "    if not questions:\n",
        "        # Try to split by common delimiters and filter short lines\n",
        "        for line in lines:\n",
        "            if len(line.strip()) > 10:\n",
        "                questions.append(line.strip())\n",
        "            if len(questions) >= num_questions:\n",
        "                break\n",
        "    return questions[:num_questions]\n",
        "\n",
        "def get_answer(question, role_or_resume):\n",
        "    prompt = build_answer_prompt(question, role_or_resume)\n",
        "    response = generator(\n",
        "        prompt,\n",
        "        max_length=128,\n",
        "        do_sample=True,\n",
        "        temperature=0.7,\n",
        "        pad_token_id=tokenizer.eos_token_id,\n",
        "        truncation=True  # <- Fix: remove warning\n",
        "    )\n",
        "    answer = response[0]['generated_text'].split(\"Sample Answer:\")[-1].strip()\n",
        "    # Remove repeated question in answer\n",
        "    if answer.lower().startswith(question.lower()):\n",
        "        answer = answer[len(question):].strip()\n",
        "    return answer\n",
        "\n",
        "def on_submit(sender):\n",
        "    with output:\n",
        "        output.clear_output()\n",
        "        role = role_input.value.strip()\n",
        "        n = num_questions_input.value\n",
        "        if not role:\n",
        "            display(Markdown(\"**Please enter a job role or paste a resume.**\"))\n",
        "            return\n",
        "        display(Markdown(f\"**Generating {n} interview questions for:** `{role}`\"))\n",
        "        questions = get_questions(role, n)\n",
        "        for idx, q in enumerate(questions, 1):\n",
        "            display(Markdown(f\"**Q{idx}. {q}**\"))\n",
        "            display(Markdown(\"_Generating sample answer..._\"))\n",
        "            answer = get_answer(q, role)\n",
        "            display(Markdown(f\"**Sample Answer:** {answer}\"))\n",
        "            display(Markdown(\"---\"))\n",
        "\n",
        "generate_button.on_click(on_submit)\n",
        "\n",
        "display(role_input, num_questions_input, generate_button, output)"
      ],
      "metadata": {
        "colab": {
          "base_uri": "https://localhost:8080/",
          "height": 428,
          "referenced_widgets": [
            "63b87af4c7af4387a859442f063e87fc",
            "ff1c7884dd064a259f55499777b6a847",
            "b629e3f1eebb4953aa43da7b164c2e1b",
            "2fc4204cdab44930bfbf10d7ca07ef29",
            "7bfdc672a79d4b14825ea3ec9b9f8068",
            "689be3f3a82841598f3d8484b05397fc",
            "74c6f9c8db454c04a5f0345ceabaa2aa",
            "52451a867d7d46ffaf176c652e06a2bf",
            "688e05b2d23949f9b9a8f1577a2b0551",
            "502ec917c953424398477ebe5536214a",
            "ed42d32de2c14f2db8e2f487e763c078"
          ]
        },
        "id": "m9TUhNiZIBLh",
        "outputId": "c1073986-1f1e-46f4-850a-723c85e43d01"
      },
      "execution_count": 15,
      "outputs": [
        {
          "output_type": "stream",
          "name": "stderr",
          "text": [
            "Device set to use cpu\n"
          ]
        },
        {
          "output_type": "display_data",
          "data": {
            "text/plain": [
              "Text(value='Data Scientist', description='Role/Resume:', layout=Layout(width='50%'), placeholder='Enter job ro…"
            ],
            "application/vnd.jupyter.widget-view+json": {
              "version_major": 2,
              "version_minor": 0,
              "model_id": "63b87af4c7af4387a859442f063e87fc"
            }
          },
          "metadata": {}
        },
        {
          "output_type": "display_data",
          "data": {
            "text/plain": [
              "BoundedIntText(value=5, description='Questions:', max=10, min=1)"
            ],
            "application/vnd.jupyter.widget-view+json": {
              "version_major": 2,
              "version_minor": 0,
              "model_id": "2fc4204cdab44930bfbf10d7ca07ef29"
            }
          },
          "metadata": {}
        },
        {
          "output_type": "display_data",
          "data": {
            "text/plain": [
              "Button(button_style='primary', description='Generate', style=ButtonStyle())"
            ],
            "application/vnd.jupyter.widget-view+json": {
              "version_major": 2,
              "version_minor": 0,
              "model_id": "74c6f9c8db454c04a5f0345ceabaa2aa"
            }
          },
          "metadata": {}
        },
        {
          "output_type": "display_data",
          "data": {
            "text/plain": [
              "Output()"
            ],
            "application/vnd.jupyter.widget-view+json": {
              "version_major": 2,
              "version_minor": 0,
              "model_id": "502ec917c953424398477ebe5536214a"
            }
          },
          "metadata": {}
        }
      ]
    }
  ]
}